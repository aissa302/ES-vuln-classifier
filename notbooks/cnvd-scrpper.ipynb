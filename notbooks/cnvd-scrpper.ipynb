{
 "cells": [
  {
   "cell_type": "code",
   "execution_count": 1,
   "metadata": {},
   "outputs": [],
   "source": [
    "import requests\n",
    "import re\n",
    "import execjs\n",
    "import hashlib\n",
    "import json\n",
    "from requests.utils import add_dict_to_cookiejar\n",
    "from fp.fp import FreeProxy\n",
    "\n",
    "\n",
    "def getCookie(data):\n",
    "    \"\"\"\n",
    "    通过加密对比得到正确cookie参数\n",
    "    :param data: 参数\n",
    "    :return: 返回正确cookie参数\n",
    "    \"\"\"\n",
    "    chars = len(data['chars'])\n",
    "    for i in range(chars):\n",
    "        for j in range(chars):\n",
    "            clearance = data['bts'][0] + data['chars'][i] + data['chars'][j] + data['bts'][1]\n",
    "            encrypt = None\n",
    "            if data['ha'] == 'md5':\n",
    "                encrypt = hashlib.md5()\n",
    "            elif data['ha'] == 'sha1':\n",
    "                encrypt = hashlib.sha1()\n",
    "            elif data['ha'] == 'sha256':\n",
    "                encrypt = hashlib.sha256()\n",
    "            encrypt.update(clearance.encode())\n",
    "            result = encrypt.hexdigest()\n",
    "            if result == data['ct']:\n",
    "                return clearance\n",
    "\n",
    "def setup_session(session, url, header):\n",
    "    # 使用session保持会话\n",
    "    res1 = session.get(url, headers=header)\n",
    "    jsl_clearance_s = re.findall(r'cookie=(.*?);location', res1.text)[0]\n",
    "    # 执行js代码\n",
    "    jsl_clearance_s = str(execjs.eval(jsl_clearance_s)).split('=')[1].split(';')[0]\n",
    "    # add_dict_to_cookiejar方法添加cookie\n",
    "    add_dict_to_cookiejar(session.cookies, {'__jsl_clearance_s': jsl_clearance_s})\n",
    "    res2 = session.get(url, headers=header)\n",
    "    # 提取go方法中的参数\n",
    "    data = json.loads(re.findall(r';go\\((.*?)\\)', res2.text)[0])\n",
    "    jsl_clearance_s = getCookie(data)\n",
    "    # 修改cookie\n",
    "    add_dict_to_cookiejar(session.cookies, {'__jsl_clearance_s': jsl_clearance_s})\n",
    "\n",
    "    return session"
   ]
  },
  {
   "cell_type": "code",
   "execution_count": 2,
   "metadata": {},
   "outputs": [],
   "source": [
    "import requests\n",
    "from bs4 import BeautifulSoup\n",
    "import csv\n",
    "import re\n",
    "from tqdm import tqdm\n",
    "import time\n",
    "\n",
    "# Initialize a session\n",
    "session = requests.Session()\n",
    "url = 'https://www.cnvd.org.cn/'\n",
    "header = {\n",
    "    'User-Agent': 'Mozilla/5.0 (Windows NT 10.0; Win64; x64) '\n",
    "                  'AppleWebKit/537.36 (KHTML, like Gecko) Chrome/87.0.4280.88 Safari/537.36'\n",
    "}\n",
    "\n",
    "def clean_text(text):\n",
    "    # Replace sequences of whitespace characters with a single space\n",
    "    text = re.sub(r'\\s+', ' ', text)\n",
    "    # Strip leading and trailing whitespace\n",
    "    return text.strip()\n",
    "\n",
    "def extract_data(html):\n",
    "    soup = BeautifulSoup(html, 'html.parser')\n",
    "    data = {}\n",
    "\n",
    "    # Extracting and cleaning data\n",
    "    data['CNVD-ID'] = clean_text(soup.find(string='CNVD-ID').find_next().text)\n",
    "    data['CVE-ID'] = clean_text(soup.find(string='CVE ID').find_next().text)\n",
    "    data['Public Date'] = clean_text(soup.find(string='公开日期').find_next().text)\n",
    "    data['Harm Level'] = clean_text(soup.find(string='危害级别').find_next().text)\n",
    "    data['Affected Products'] = [clean_text(product) for product in soup.find(string='影响产品').find_next().stripped_strings]\n",
    "    data['Description'] = clean_text(soup.find(string='漏洞描述').find_next().text)\n",
    "    data['Vulnerability Type'] = clean_text(soup.find(string='漏洞类型').find_next().text)\n",
    "    data['Reference Link'] = clean_text(soup.find(string='参考链接').find_next().text)\n",
    "    data['Solution'] = clean_text(soup.find(string='漏洞解决方案').find_next().text)\n",
    "    data['Vendor Patch'] = clean_text(soup.find(string='厂商补丁').find_next().text)\n",
    "\n",
    "    return data\n",
    "\n",
    "\n",
    "\n",
    "def extract_links(html):\n",
    "    soup = BeautifulSoup(html, 'html.parser')\n",
    "    # Find all 'a' tags with 'href' attributes containing '/flaw/show/CNVD-'\n",
    "    flaw_links = soup.find_all('a', href=lambda href: href and '/flaw/show/CNVD-' in href)\n",
    "\n",
    "    # Prepend the base URL to each link and store them in a list\n",
    "    base_url = \"https://www.cnvd.org.cn\"\n",
    "    full_links = [base_url + link['href'] for link in flaw_links]\n",
    "    return full_links\n",
    "\n",
    "def save_list_to_text_file(data, filename):\n",
    "    with open(filename, 'w', encoding='utf-8') as file:\n",
    "        for item in data:\n",
    "            file.write(f'{item}\\n')\n",
    "\n",
    "def file_to_list(filename):\n",
    "    with open(filename, 'r', encoding='utf-8') as file:\n",
    "        data = file.readlines()\n",
    "        return [item.strip() for item in data]\n",
    "\n"
   ]
  },
  {
   "cell_type": "code",
   "execution_count": 3,
   "metadata": {},
   "outputs": [
    {
     "name": "stdout",
     "output_type": "stream",
     "text": [
      "Node.js (V8)\n"
     ]
    }
   ],
   "source": [
    "import execjs\n",
    "print(execjs.get().name)\n"
   ]
  },
  {
   "cell_type": "code",
   "execution_count": 3,
   "metadata": {},
   "outputs": [
    {
     "name": "stderr",
     "output_type": "stream",
     "text": [
      "Retrieving links: 100%|██████████| 15/15 [00:20<00:00,  1.38s/pages]\n"
     ]
    }
   ],
   "source": [
    "# Get a working session\n",
    "session = setup_session(session, url, header)\n",
    "\n",
    "# Retrieve the links to the vulnerabilities\n",
    "cnvd_links = []\n",
    "for i in tqdm(range(0, 1500, 100), desc='Retrieving links', unit='pages'):\n",
    "    url = f'https://www.cnvd.org.cn/flaw/typeResult?typeId=33&max=100&offset={i}'\n",
    "    response = session.get(url, headers=header)\n",
    "    #print(response.text)\n",
    "    if response.status_code == 200:\n",
    "        #extracted_data = extract_data(response.text)\n",
    "        page_links = extract_links(response.text)\n",
    "        cnvd_links.extend(page_links)\n",
    "    else:\n",
    "        print(f'Failed to retrieve page {i//1500 + 1}')\n",
    "        break\n",
    "\n",
    "# Save the links to a text file\n",
    "save_list_to_text_file(cnvd_links, 'test.txt')"
   ]
  },
  {
   "cell_type": "code",
   "execution_count": 3,
   "metadata": {},
   "outputs": [
    {
     "name": "stdout",
     "output_type": "stream",
     "text": [
      "Retrieving data from 1506 links\n"
     ]
    },
    {
     "name": "stderr",
     "output_type": "stream",
     "text": [
      "Retrieving data:   0%|          | 0/1506 [00:00<?, ?links/s]"
     ]
    },
    {
     "name": "stdout",
     "output_type": "stream",
     "text": [
      "200\n"
     ]
    },
    {
     "name": "stderr",
     "output_type": "stream",
     "text": [
      "Retrieving data:   0%|          | 1/1506 [00:05<2:14:32,  5.36s/links]"
     ]
    },
    {
     "name": "stdout",
     "output_type": "stream",
     "text": [
      "200\n"
     ]
    },
    {
     "name": "stderr",
     "output_type": "stream",
     "text": [
      "Retrieving data:   0%|          | 2/1506 [00:10<2:14:31,  5.37s/links]"
     ]
    },
    {
     "name": "stdout",
     "output_type": "stream",
     "text": [
      "200\n"
     ]
    },
    {
     "name": "stderr",
     "output_type": "stream",
     "text": [
      "Retrieving data:   0%|          | 3/1506 [00:16<2:14:28,  5.37s/links]"
     ]
    },
    {
     "name": "stdout",
     "output_type": "stream",
     "text": [
      "200\n"
     ]
    },
    {
     "name": "stderr",
     "output_type": "stream",
     "text": [
      "Retrieving data:   0%|          | 4/1506 [00:21<2:15:20,  5.41s/links]"
     ]
    },
    {
     "name": "stdout",
     "output_type": "stream",
     "text": [
      "200\n"
     ]
    },
    {
     "name": "stderr",
     "output_type": "stream",
     "text": [
      "Retrieving data:   0%|          | 5/1506 [01:26<11:16:11, 27.03s/links]"
     ]
    },
    {
     "name": "stdout",
     "output_type": "stream",
     "text": [
      "200\n"
     ]
    },
    {
     "name": "stderr",
     "output_type": "stream",
     "text": [
      "Retrieving data:   0%|          | 6/1506 [01:32<8:11:36, 19.66s/links] "
     ]
    },
    {
     "name": "stdout",
     "output_type": "stream",
     "text": [
      "200\n"
     ]
    },
    {
     "name": "stderr",
     "output_type": "stream",
     "text": [
      "Retrieving data:   0%|          | 7/1506 [01:38<5:49:53, 14.00s/links]"
     ]
    },
    {
     "name": "stdout",
     "output_type": "stream",
     "text": [
      "200\n",
      "Failed to extract data from https://www.cnvd.org.cn/flaw/show/CNVD-2023-93600\n",
      "'NoneType' object has no attribute 'find_next'\n"
     ]
    },
    {
     "name": "stderr",
     "output_type": "stream",
     "text": [
      "Retrieving data:   1%|          | 9/1506 [00:44<1:29:35,  3.59s/links]"
     ]
    },
    {
     "name": "stdout",
     "output_type": "stream",
     "text": [
      "200\n",
      "Failed to extract data from https://www.cnvd.org.cn/flaw/show/CNVD-2023-57643\n",
      "'NoneType' object has no attribute 'find_next'\n"
     ]
    },
    {
     "name": "stderr",
     "output_type": "stream",
     "text": [
      "Retrieving data:   1%|          | 10/1506 [00:44<1:05:08,  2.61s/links]"
     ]
    },
    {
     "name": "stdout",
     "output_type": "stream",
     "text": [
      "403\n",
      "Failed to retrieve data from https://www.cnvd.org.cn/flaw/show/CNVD-2022-44338\n"
     ]
    },
    {
     "name": "stderr",
     "output_type": "stream",
     "text": [
      "Retrieving data:   1%|          | 11/1506 [00:45<48:21,  1.94s/links]  "
     ]
    },
    {
     "name": "stdout",
     "output_type": "stream",
     "text": [
      "403\n",
      "Failed to retrieve data from https://www.cnvd.org.cn/flaw/show/CNVD-2023-66236\n"
     ]
    },
    {
     "name": "stderr",
     "output_type": "stream",
     "text": [
      "Retrieving data:   1%|          | 12/1506 [00:45<38:59,  1.57s/links]"
     ]
    },
    {
     "name": "stdout",
     "output_type": "stream",
     "text": [
      "403\n",
      "Failed to retrieve data from https://www.cnvd.org.cn/flaw/show/CNVD-2023-82679\n"
     ]
    },
    {
     "name": "stderr",
     "output_type": "stream",
     "text": [
      "Retrieving data:   1%|          | 13/1506 [00:46<31:47,  1.28s/links]"
     ]
    },
    {
     "name": "stdout",
     "output_type": "stream",
     "text": [
      "403\n",
      "Failed to retrieve data from https://www.cnvd.org.cn/flaw/show/CNVD-2023-61392\n"
     ]
    },
    {
     "name": "stderr",
     "output_type": "stream",
     "text": [
      "Retrieving data:   1%|          | 14/1506 [00:48<34:28,  1.39s/links]"
     ]
    },
    {
     "name": "stdout",
     "output_type": "stream",
     "text": [
      "403\n",
      "Failed to retrieve data from https://www.cnvd.org.cn/flaw/show/CNVD-2023-61393\n"
     ]
    },
    {
     "name": "stderr",
     "output_type": "stream",
     "text": [
      "Retrieving data:   1%|          | 15/1506 [00:48<28:40,  1.15s/links]"
     ]
    },
    {
     "name": "stdout",
     "output_type": "stream",
     "text": [
      "403\n",
      "Failed to retrieve data from https://www.cnvd.org.cn/flaw/show/CNVD-2023-65159\n"
     ]
    },
    {
     "name": "stderr",
     "output_type": "stream",
     "text": [
      "Retrieving data:   1%|          | 16/1506 [00:49<23:11,  1.07links/s]"
     ]
    },
    {
     "name": "stdout",
     "output_type": "stream",
     "text": [
      "403\n",
      "Failed to retrieve data from https://www.cnvd.org.cn/flaw/show/CNVD-2023-65160\n"
     ]
    },
    {
     "name": "stderr",
     "output_type": "stream",
     "text": [
      "Retrieving data:   1%|          | 17/1506 [00:49<19:16,  1.29links/s]"
     ]
    },
    {
     "name": "stdout",
     "output_type": "stream",
     "text": [
      "403\n",
      "Failed to retrieve data from https://www.cnvd.org.cn/flaw/show/CNVD-2023-65161\n"
     ]
    },
    {
     "name": "stderr",
     "output_type": "stream",
     "text": [
      "Retrieving data:   1%|          | 18/1506 [00:49<16:25,  1.51links/s]"
     ]
    },
    {
     "name": "stdout",
     "output_type": "stream",
     "text": [
      "403\n",
      "Failed to retrieve data from https://www.cnvd.org.cn/flaw/show/CNVD-2023-56533\n"
     ]
    },
    {
     "name": "stderr",
     "output_type": "stream",
     "text": [
      "Retrieving data:   1%|▏         | 19/1506 [00:50<16:02,  1.54links/s]"
     ]
    },
    {
     "name": "stdout",
     "output_type": "stream",
     "text": [
      "403\n",
      "Failed to retrieve data from https://www.cnvd.org.cn/flaw/show/CNVD-2023-17849\n"
     ]
    },
    {
     "name": "stderr",
     "output_type": "stream",
     "text": [
      "Retrieving data:   1%|▏         | 20/1506 [00:51<18:49,  1.32links/s]"
     ]
    },
    {
     "name": "stdout",
     "output_type": "stream",
     "text": [
      "403\n",
      "Failed to retrieve data from https://www.cnvd.org.cn/flaw/show/CNVD-2023-51675\n"
     ]
    },
    {
     "name": "stderr",
     "output_type": "stream",
     "text": [
      "Retrieving data:   1%|▏         | 21/1506 [00:52<17:44,  1.40links/s]"
     ]
    },
    {
     "name": "stdout",
     "output_type": "stream",
     "text": [
      "403\n",
      "Failed to retrieve data from https://www.cnvd.org.cn/flaw/show/CNVD-2023-43889\n"
     ]
    },
    {
     "name": "stderr",
     "output_type": "stream",
     "text": [
      "Retrieving data:   1%|▏         | 22/1506 [00:52<16:58,  1.46links/s]"
     ]
    },
    {
     "name": "stdout",
     "output_type": "stream",
     "text": [
      "403\n",
      "Failed to retrieve data from https://www.cnvd.org.cn/flaw/show/CNVD-2023-40178\n"
     ]
    },
    {
     "name": "stderr",
     "output_type": "stream",
     "text": [
      "Retrieving data:   2%|▏         | 23/1506 [00:53<15:40,  1.58links/s]"
     ]
    },
    {
     "name": "stdout",
     "output_type": "stream",
     "text": [
      "403\n",
      "Failed to retrieve data from https://www.cnvd.org.cn/flaw/show/CNVD-2023-39039\n"
     ]
    },
    {
     "name": "stderr",
     "output_type": "stream",
     "text": [
      "Retrieving data:   2%|▏         | 24/1506 [00:53<13:59,  1.77links/s]"
     ]
    },
    {
     "name": "stdout",
     "output_type": "stream",
     "text": [
      "403\n",
      "Failed to retrieve data from https://www.cnvd.org.cn/flaw/show/CNVD-2023-39040\n"
     ]
    },
    {
     "name": "stderr",
     "output_type": "stream",
     "text": [
      "Retrieving data:   2%|▏         | 25/1506 [00:55<19:38,  1.26links/s]"
     ]
    },
    {
     "name": "stdout",
     "output_type": "stream",
     "text": [
      "403\n",
      "Failed to retrieve data from https://www.cnvd.org.cn/flaw/show/CNVD-2023-39041\n"
     ]
    },
    {
     "name": "stderr",
     "output_type": "stream",
     "text": [
      "Retrieving data:   2%|▏         | 26/1506 [00:55<18:17,  1.35links/s]"
     ]
    },
    {
     "name": "stdout",
     "output_type": "stream",
     "text": [
      "403\n",
      "Failed to retrieve data from https://www.cnvd.org.cn/flaw/show/CNVD-2023-38966\n"
     ]
    },
    {
     "name": "stderr",
     "output_type": "stream",
     "text": [
      "Retrieving data:   2%|▏         | 27/1506 [00:56<17:23,  1.42links/s]"
     ]
    },
    {
     "name": "stdout",
     "output_type": "stream",
     "text": [
      "403\n",
      "Failed to retrieve data from https://www.cnvd.org.cn/flaw/show/CNVD-2023-38965\n"
     ]
    },
    {
     "name": "stderr",
     "output_type": "stream",
     "text": [
      "Retrieving data:   2%|▏         | 28/1506 [00:56<16:47,  1.47links/s]"
     ]
    },
    {
     "name": "stdout",
     "output_type": "stream",
     "text": [
      "403\n",
      "Failed to retrieve data from https://www.cnvd.org.cn/flaw/show/CNVD-2023-23559\n"
     ]
    },
    {
     "name": "stderr",
     "output_type": "stream",
     "text": [
      "Retrieving data:   2%|▏         | 29/1506 [00:57<14:38,  1.68links/s]"
     ]
    },
    {
     "name": "stdout",
     "output_type": "stream",
     "text": [
      "403\n",
      "Failed to retrieve data from https://www.cnvd.org.cn/flaw/show/CNVD-2023-23561\n"
     ]
    },
    {
     "name": "stderr",
     "output_type": "stream",
     "text": [
      "Retrieving data:   2%|▏         | 30/1506 [00:57<13:16,  1.85links/s]"
     ]
    },
    {
     "name": "stdout",
     "output_type": "stream",
     "text": [
      "403\n",
      "Failed to retrieve data from https://www.cnvd.org.cn/flaw/show/CNVD-2023-23818\n"
     ]
    },
    {
     "name": "stderr",
     "output_type": "stream",
     "text": [
      "Retrieving data:   2%|▏         | 31/1506 [00:59<19:50,  1.24links/s]"
     ]
    },
    {
     "name": "stdout",
     "output_type": "stream",
     "text": [
      "403\n",
      "Failed to retrieve data from https://www.cnvd.org.cn/flaw/show/CNVD-2023-23571\n"
     ]
    },
    {
     "name": "stderr",
     "output_type": "stream",
     "text": [
      "Retrieving data:   2%|▏         | 32/1506 [00:59<16:53,  1.45links/s]"
     ]
    },
    {
     "name": "stdout",
     "output_type": "stream",
     "text": [
      "403\n",
      "Failed to retrieve data from https://www.cnvd.org.cn/flaw/show/CNVD-2023-23572\n"
     ]
    },
    {
     "name": "stderr",
     "output_type": "stream",
     "text": [
      "Retrieving data:   2%|▏         | 33/1506 [01:00<16:25,  1.49links/s]"
     ]
    },
    {
     "name": "stdout",
     "output_type": "stream",
     "text": [
      "403\n",
      "Failed to retrieve data from https://www.cnvd.org.cn/flaw/show/CNVD-2023-12018\n"
     ]
    },
    {
     "name": "stderr",
     "output_type": "stream",
     "text": [
      "Retrieving data:   2%|▏         | 34/1506 [01:00<15:55,  1.54links/s]"
     ]
    },
    {
     "name": "stdout",
     "output_type": "stream",
     "text": [
      "403\n",
      "Failed to retrieve data from https://www.cnvd.org.cn/flaw/show/CNVD-2023-11988\n"
     ]
    },
    {
     "name": "stderr",
     "output_type": "stream",
     "text": [
      "Retrieving data:   2%|▏         | 35/1506 [01:01<15:39,  1.57links/s]"
     ]
    },
    {
     "name": "stdout",
     "output_type": "stream",
     "text": [
      "403\n",
      "Failed to retrieve data from https://www.cnvd.org.cn/flaw/show/CNVD-2023-09657\n"
     ]
    },
    {
     "name": "stderr",
     "output_type": "stream",
     "text": [
      "Retrieving data:   2%|▏         | 36/1506 [01:02<15:28,  1.58links/s]"
     ]
    },
    {
     "name": "stdout",
     "output_type": "stream",
     "text": [
      "403\n",
      "Failed to retrieve data from https://www.cnvd.org.cn/flaw/show/CNVD-2023-09779\n"
     ]
    },
    {
     "name": "stderr",
     "output_type": "stream",
     "text": [
      "Retrieving data:   2%|▏         | 37/1506 [01:02<13:49,  1.77links/s]"
     ]
    },
    {
     "name": "stdout",
     "output_type": "stream",
     "text": [
      "403\n",
      "Failed to retrieve data from https://www.cnvd.org.cn/flaw/show/CNVD-2023-01492\n"
     ]
    },
    {
     "name": "stderr",
     "output_type": "stream",
     "text": [
      "Retrieving data:   3%|▎         | 38/1506 [01:04<23:12,  1.05links/s]"
     ]
    },
    {
     "name": "stdout",
     "output_type": "stream",
     "text": [
      "403\n",
      "Failed to retrieve data from https://www.cnvd.org.cn/flaw/show/CNVD-2023-01493\n"
     ]
    },
    {
     "name": "stderr",
     "output_type": "stream",
     "text": [
      "Retrieving data:   3%|▎         | 39/1506 [01:05<26:44,  1.09s/links]"
     ]
    },
    {
     "name": "stdout",
     "output_type": "stream",
     "text": [
      "403\n",
      "Failed to retrieve data from https://www.cnvd.org.cn/flaw/show/CNVD-2023-01498\n"
     ]
    },
    {
     "name": "stderr",
     "output_type": "stream",
     "text": [
      "Retrieving data:   3%|▎         | 40/1506 [01:06<23:29,  1.04links/s]"
     ]
    },
    {
     "name": "stdout",
     "output_type": "stream",
     "text": [
      "403\n",
      "Failed to retrieve data from https://www.cnvd.org.cn/flaw/show/CNVD-2023-01499\n"
     ]
    },
    {
     "name": "stderr",
     "output_type": "stream",
     "text": [
      "Retrieving data:   3%|▎         | 41/1506 [01:06<21:05,  1.16links/s]"
     ]
    },
    {
     "name": "stdout",
     "output_type": "stream",
     "text": [
      "403\n",
      "Failed to retrieve data from https://www.cnvd.org.cn/flaw/show/CNVD-2023-01494\n"
     ]
    },
    {
     "name": "stderr",
     "output_type": "stream",
     "text": [
      "Retrieving data:   3%|▎         | 42/1506 [01:07<19:16,  1.27links/s]"
     ]
    },
    {
     "name": "stdout",
     "output_type": "stream",
     "text": [
      "403\n",
      "Failed to retrieve data from https://www.cnvd.org.cn/flaw/show/CNVD-2023-01060\n"
     ]
    },
    {
     "name": "stderr",
     "output_type": "stream",
     "text": [
      "Retrieving data:   3%|▎         | 43/1506 [01:08<18:10,  1.34links/s]"
     ]
    },
    {
     "name": "stdout",
     "output_type": "stream",
     "text": [
      "403\n",
      "Failed to retrieve data from https://www.cnvd.org.cn/flaw/show/CNVD-2023-01056\n"
     ]
    },
    {
     "name": "stderr",
     "output_type": "stream",
     "text": [
      "Retrieving data:   3%|▎         | 44/1506 [01:08<17:31,  1.39links/s]"
     ]
    },
    {
     "name": "stdout",
     "output_type": "stream",
     "text": [
      "403\n",
      "Failed to retrieve data from https://www.cnvd.org.cn/flaw/show/CNVD-2023-01055\n"
     ]
    },
    {
     "name": "stderr",
     "output_type": "stream",
     "text": [
      "Retrieving data:   3%|▎         | 45/1506 [01:09<17:15,  1.41links/s]"
     ]
    },
    {
     "name": "stdout",
     "output_type": "stream",
     "text": [
      "403\n",
      "Failed to retrieve data from https://www.cnvd.org.cn/flaw/show/CNVD-2023-01054\n"
     ]
    },
    {
     "name": "stderr",
     "output_type": "stream",
     "text": [
      "Retrieving data:   3%|▎         | 46/1506 [01:10<16:42,  1.46links/s]"
     ]
    },
    {
     "name": "stdout",
     "output_type": "stream",
     "text": [
      "403\n",
      "Failed to retrieve data from https://www.cnvd.org.cn/flaw/show/CNVD-2023-01490\n"
     ]
    },
    {
     "name": "stderr",
     "output_type": "stream",
     "text": [
      "Retrieving data:   3%|▎         | 47/1506 [01:10<16:14,  1.50links/s]"
     ]
    },
    {
     "name": "stdout",
     "output_type": "stream",
     "text": [
      "403\n",
      "Failed to retrieve data from https://www.cnvd.org.cn/flaw/show/CNVD-2023-01491\n"
     ]
    },
    {
     "name": "stderr",
     "output_type": "stream",
     "text": [
      "Retrieving data:   3%|▎         | 48/1506 [01:11<15:53,  1.53links/s]"
     ]
    },
    {
     "name": "stdout",
     "output_type": "stream",
     "text": [
      "403\n",
      "Failed to retrieve data from https://www.cnvd.org.cn/flaw/show/CNVD-2023-00002\n"
     ]
    },
    {
     "name": "stderr",
     "output_type": "stream",
     "text": [
      "Retrieving data:   3%|▎         | 49/1506 [01:12<15:41,  1.55links/s]"
     ]
    },
    {
     "name": "stdout",
     "output_type": "stream",
     "text": [
      "403\n",
      "Failed to retrieve data from https://www.cnvd.org.cn/flaw/show/CNVD-2022-91580\n"
     ]
    },
    {
     "name": "stderr",
     "output_type": "stream",
     "text": [
      "Retrieving data:   3%|▎         | 50/1506 [01:12<15:35,  1.56links/s]"
     ]
    },
    {
     "name": "stdout",
     "output_type": "stream",
     "text": [
      "403\n",
      "Failed to retrieve data from https://www.cnvd.org.cn/flaw/show/CNVD-2022-88816\n"
     ]
    },
    {
     "name": "stderr",
     "output_type": "stream",
     "text": [
      "Retrieving data:   3%|▎         | 51/1506 [01:13<15:35,  1.55links/s]"
     ]
    },
    {
     "name": "stdout",
     "output_type": "stream",
     "text": [
      "403\n",
      "Failed to retrieve data from https://www.cnvd.org.cn/flaw/show/CNVD-2023-100956\n"
     ]
    },
    {
     "name": "stderr",
     "output_type": "stream",
     "text": [
      "Retrieving data:   3%|▎         | 52/1506 [01:14<15:30,  1.56links/s]"
     ]
    },
    {
     "name": "stdout",
     "output_type": "stream",
     "text": [
      "403\n",
      "Failed to retrieve data from https://www.cnvd.org.cn/flaw/show/CNVD-2022-88804\n"
     ]
    },
    {
     "name": "stderr",
     "output_type": "stream",
     "text": [
      "Retrieving data:   4%|▎         | 53/1506 [01:14<15:23,  1.57links/s]"
     ]
    },
    {
     "name": "stdout",
     "output_type": "stream",
     "text": [
      "403\n",
      "Failed to retrieve data from https://www.cnvd.org.cn/flaw/show/CNVD-2022-88790\n"
     ]
    },
    {
     "name": "stderr",
     "output_type": "stream",
     "text": [
      "Retrieving data:   4%|▎         | 54/1506 [01:15<15:47,  1.53links/s]"
     ]
    },
    {
     "name": "stdout",
     "output_type": "stream",
     "text": [
      "403\n",
      "Failed to retrieve data from https://www.cnvd.org.cn/flaw/show/CNVD-2022-87953\n"
     ]
    },
    {
     "name": "stderr",
     "output_type": "stream",
     "text": [
      "Retrieving data:   4%|▎         | 55/1506 [01:15<15:42,  1.54links/s]"
     ]
    },
    {
     "name": "stdout",
     "output_type": "stream",
     "text": [
      "403\n",
      "Failed to retrieve data from https://www.cnvd.org.cn/flaw/show/CNVD-2022-87954\n"
     ]
    },
    {
     "name": "stderr",
     "output_type": "stream",
     "text": [
      "Retrieving data:   4%|▎         | 56/1506 [01:16<15:29,  1.56links/s]"
     ]
    },
    {
     "name": "stdout",
     "output_type": "stream",
     "text": [
      "403\n",
      "Failed to retrieve data from https://www.cnvd.org.cn/flaw/show/CNVD-2022-87955\n"
     ]
    },
    {
     "name": "stderr",
     "output_type": "stream",
     "text": [
      "Retrieving data:   4%|▍         | 57/1506 [01:17<15:22,  1.57links/s]"
     ]
    },
    {
     "name": "stdout",
     "output_type": "stream",
     "text": [
      "403\n",
      "Failed to retrieve data from https://www.cnvd.org.cn/flaw/show/CNVD-2022-87957\n"
     ]
    },
    {
     "name": "stderr",
     "output_type": "stream",
     "text": [
      "Retrieving data:   4%|▍         | 58/1506 [01:17<15:24,  1.57links/s]"
     ]
    },
    {
     "name": "stdout",
     "output_type": "stream",
     "text": [
      "403\n",
      "Failed to retrieve data from https://www.cnvd.org.cn/flaw/show/CNVD-2022-87958\n"
     ]
    },
    {
     "name": "stderr",
     "output_type": "stream",
     "text": [
      "Retrieving data:   4%|▍         | 59/1506 [01:18<15:18,  1.58links/s]"
     ]
    },
    {
     "name": "stdout",
     "output_type": "stream",
     "text": [
      "403\n",
      "Failed to retrieve data from https://www.cnvd.org.cn/flaw/show/CNVD-2022-87959\n"
     ]
    },
    {
     "name": "stderr",
     "output_type": "stream",
     "text": [
      "Retrieving data:   4%|▍         | 60/1506 [01:19<15:23,  1.57links/s]"
     ]
    },
    {
     "name": "stdout",
     "output_type": "stream",
     "text": [
      "403\n",
      "Failed to retrieve data from https://www.cnvd.org.cn/flaw/show/CNVD-2022-87960\n"
     ]
    },
    {
     "name": "stderr",
     "output_type": "stream",
     "text": [
      "Retrieving data:   4%|▍         | 61/1506 [01:19<15:21,  1.57links/s]"
     ]
    },
    {
     "name": "stdout",
     "output_type": "stream",
     "text": [
      "403\n",
      "Failed to retrieve data from https://www.cnvd.org.cn/flaw/show/CNVD-2022-87961\n"
     ]
    },
    {
     "name": "stderr",
     "output_type": "stream",
     "text": [
      "Retrieving data:   4%|▍         | 62/1506 [01:20<15:37,  1.54links/s]"
     ]
    },
    {
     "name": "stdout",
     "output_type": "stream",
     "text": [
      "403\n",
      "Failed to retrieve data from https://www.cnvd.org.cn/flaw/show/CNVD-2022-87962\n"
     ]
    },
    {
     "name": "stderr",
     "output_type": "stream",
     "text": [
      "Retrieving data:   4%|▍         | 63/1506 [01:21<15:25,  1.56links/s]"
     ]
    },
    {
     "name": "stdout",
     "output_type": "stream",
     "text": [
      "403\n",
      "Failed to retrieve data from https://www.cnvd.org.cn/flaw/show/CNVD-2022-87963\n"
     ]
    },
    {
     "name": "stderr",
     "output_type": "stream",
     "text": [
      "Retrieving data:   4%|▍         | 64/1506 [01:21<15:17,  1.57links/s]"
     ]
    },
    {
     "name": "stdout",
     "output_type": "stream",
     "text": [
      "403\n",
      "Failed to retrieve data from https://www.cnvd.org.cn/flaw/show/CNVD-2022-86543\n"
     ]
    },
    {
     "name": "stderr",
     "output_type": "stream",
     "text": [
      "Retrieving data:   4%|▍         | 65/1506 [01:22<15:19,  1.57links/s]"
     ]
    },
    {
     "name": "stdout",
     "output_type": "stream",
     "text": [
      "403\n",
      "Failed to retrieve data from https://www.cnvd.org.cn/flaw/show/CNVD-2022-86544\n"
     ]
    },
    {
     "name": "stderr",
     "output_type": "stream",
     "text": [
      "Retrieving data:   4%|▍         | 66/1506 [01:22<15:21,  1.56links/s]"
     ]
    },
    {
     "name": "stdout",
     "output_type": "stream",
     "text": [
      "403\n",
      "Failed to retrieve data from https://www.cnvd.org.cn/flaw/show/CNVD-2021-80694\n"
     ]
    },
    {
     "name": "stderr",
     "output_type": "stream",
     "text": [
      "Retrieving data:   4%|▍         | 67/1506 [01:24<19:02,  1.26links/s]"
     ]
    },
    {
     "name": "stdout",
     "output_type": "stream",
     "text": [
      "403\n",
      "Failed to retrieve data from https://www.cnvd.org.cn/flaw/show/CNVD-2022-83593\n"
     ]
    },
    {
     "name": "stderr",
     "output_type": "stream",
     "text": [
      "Retrieving data:   5%|▍         | 68/1506 [01:26<33:56,  1.42s/links]"
     ]
    },
    {
     "name": "stdout",
     "output_type": "stream",
     "text": [
      "403\n",
      "Failed to retrieve data from https://www.cnvd.org.cn/flaw/show/CNVD-2022-82261\n"
     ]
    },
    {
     "name": "stderr",
     "output_type": "stream",
     "text": [
      "Retrieving data:   5%|▍         | 69/1506 [01:29<39:28,  1.65s/links]"
     ]
    },
    {
     "name": "stdout",
     "output_type": "stream",
     "text": [
      "403\n",
      "Failed to retrieve data from https://www.cnvd.org.cn/flaw/show/CNVD-2022-77539\n"
     ]
    },
    {
     "name": "stderr",
     "output_type": "stream",
     "text": [
      "Retrieving data:   5%|▍         | 70/1506 [01:31<42:01,  1.76s/links]"
     ]
    },
    {
     "name": "stdout",
     "output_type": "stream",
     "text": [
      "403\n",
      "Failed to retrieve data from https://www.cnvd.org.cn/flaw/show/CNVD-2022-77540\n"
     ]
    },
    {
     "name": "stderr",
     "output_type": "stream",
     "text": [
      "Retrieving data:   5%|▍         | 71/1506 [01:32<42:11,  1.76s/links]"
     ]
    },
    {
     "name": "stdout",
     "output_type": "stream",
     "text": [
      "403\n",
      "Failed to retrieve data from https://www.cnvd.org.cn/flaw/show/CNVD-2022-77541\n"
     ]
    },
    {
     "name": "stderr",
     "output_type": "stream",
     "text": [
      "Retrieving data:   5%|▍         | 72/1506 [01:34<40:26,  1.69s/links]"
     ]
    },
    {
     "name": "stdout",
     "output_type": "stream",
     "text": [
      "403\n",
      "Failed to retrieve data from https://www.cnvd.org.cn/flaw/show/CNVD-2022-77542\n"
     ]
    },
    {
     "name": "stderr",
     "output_type": "stream",
     "text": [
      "Retrieving data:   5%|▍         | 73/1506 [01:35<37:40,  1.58s/links]"
     ]
    },
    {
     "name": "stdout",
     "output_type": "stream",
     "text": [
      "403\n",
      "Failed to retrieve data from https://www.cnvd.org.cn/flaw/show/CNVD-2022-77543\n"
     ]
    },
    {
     "name": "stderr",
     "output_type": "stream",
     "text": [
      "Retrieving data:   5%|▍         | 74/1506 [01:37<35:44,  1.50s/links]"
     ]
    },
    {
     "name": "stdout",
     "output_type": "stream",
     "text": [
      "403\n",
      "Failed to retrieve data from https://www.cnvd.org.cn/flaw/show/CNVD-2022-77544\n"
     ]
    },
    {
     "name": "stderr",
     "output_type": "stream",
     "text": [
      "Retrieving data:   5%|▍         | 75/1506 [01:39<39:56,  1.67s/links]"
     ]
    },
    {
     "name": "stdout",
     "output_type": "stream",
     "text": [
      "403\n",
      "Failed to retrieve data from https://www.cnvd.org.cn/flaw/show/CNVD-2022-70693\n"
     ]
    },
    {
     "name": "stderr",
     "output_type": "stream",
     "text": [
      "Retrieving data:   5%|▌         | 76/1506 [01:40<36:30,  1.53s/links]"
     ]
    },
    {
     "name": "stdout",
     "output_type": "stream",
     "text": [
      "403\n",
      "Failed to retrieve data from https://www.cnvd.org.cn/flaw/show/CNVD-2022-71117\n"
     ]
    },
    {
     "name": "stderr",
     "output_type": "stream",
     "text": [
      "Retrieving data:   5%|▌         | 77/1506 [01:41<33:35,  1.41s/links]"
     ]
    },
    {
     "name": "stdout",
     "output_type": "stream",
     "text": [
      "403\n",
      "Failed to retrieve data from https://www.cnvd.org.cn/flaw/show/CNVD-2022-70731\n"
     ]
    },
    {
     "name": "stderr",
     "output_type": "stream",
     "text": [
      "Retrieving data:   5%|▌         | 78/1506 [01:42<31:10,  1.31s/links]"
     ]
    },
    {
     "name": "stdout",
     "output_type": "stream",
     "text": [
      "403\n",
      "Failed to retrieve data from https://www.cnvd.org.cn/flaw/show/CNVD-2022-70732\n"
     ]
    },
    {
     "name": "stderr",
     "output_type": "stream",
     "text": [
      "Retrieving data:   5%|▌         | 79/1506 [01:43<29:14,  1.23s/links]"
     ]
    },
    {
     "name": "stdout",
     "output_type": "stream",
     "text": [
      "403\n",
      "Failed to retrieve data from https://www.cnvd.org.cn/flaw/show/CNVD-2022-70733\n"
     ]
    },
    {
     "name": "stderr",
     "output_type": "stream",
     "text": [
      "Retrieving data:   5%|▌         | 80/1506 [01:44<28:44,  1.21s/links]"
     ]
    },
    {
     "name": "stdout",
     "output_type": "stream",
     "text": [
      "403\n",
      "Failed to retrieve data from https://www.cnvd.org.cn/flaw/show/CNVD-2022-70734\n"
     ]
    },
    {
     "name": "stderr",
     "output_type": "stream",
     "text": [
      "Retrieving data:   5%|▌         | 81/1506 [01:45<27:29,  1.16s/links]"
     ]
    },
    {
     "name": "stdout",
     "output_type": "stream",
     "text": [
      "403\n",
      "Failed to retrieve data from https://www.cnvd.org.cn/flaw/show/CNVD-2022-70735\n"
     ]
    },
    {
     "name": "stderr",
     "output_type": "stream",
     "text": [
      "Retrieving data:   5%|▌         | 82/1506 [01:46<26:51,  1.13s/links]"
     ]
    },
    {
     "name": "stdout",
     "output_type": "stream",
     "text": [
      "403\n",
      "Failed to retrieve data from https://www.cnvd.org.cn/flaw/show/CNVD-2022-70736\n"
     ]
    },
    {
     "name": "stderr",
     "output_type": "stream",
     "text": [
      "Retrieving data:   6%|▌         | 83/1506 [01:48<26:28,  1.12s/links]"
     ]
    },
    {
     "name": "stdout",
     "output_type": "stream",
     "text": [
      "403\n",
      "Failed to retrieve data from https://www.cnvd.org.cn/flaw/show/CNVD-2022-70737\n"
     ]
    },
    {
     "name": "stderr",
     "output_type": "stream",
     "text": [
      "Retrieving data:   6%|▌         | 84/1506 [01:49<27:09,  1.15s/links]"
     ]
    },
    {
     "name": "stdout",
     "output_type": "stream",
     "text": [
      "403\n",
      "Failed to retrieve data from https://www.cnvd.org.cn/flaw/show/CNVD-2022-70738\n"
     ]
    },
    {
     "name": "stderr",
     "output_type": "stream",
     "text": [
      "Retrieving data:   6%|▌         | 85/1506 [01:50<26:32,  1.12s/links]"
     ]
    },
    {
     "name": "stdout",
     "output_type": "stream",
     "text": [
      "403\n",
      "Failed to retrieve data from https://www.cnvd.org.cn/flaw/show/CNVD-2022-70740\n"
     ]
    },
    {
     "name": "stderr",
     "output_type": "stream",
     "text": [
      "Retrieving data:   6%|▌         | 86/1506 [01:51<25:47,  1.09s/links]"
     ]
    },
    {
     "name": "stdout",
     "output_type": "stream",
     "text": [
      "403\n",
      "Failed to retrieve data from https://www.cnvd.org.cn/flaw/show/CNVD-2022-70105\n"
     ]
    },
    {
     "name": "stderr",
     "output_type": "stream",
     "text": [
      "Retrieving data:   6%|▌         | 87/1506 [01:52<25:04,  1.06s/links]"
     ]
    },
    {
     "name": "stdout",
     "output_type": "stream",
     "text": [
      "403\n",
      "Failed to retrieve data from https://www.cnvd.org.cn/flaw/show/CNVD-2022-69737\n"
     ]
    },
    {
     "name": "stderr",
     "output_type": "stream",
     "text": [
      "Retrieving data:   6%|▌         | 88/1506 [01:53<25:31,  1.08s/links]"
     ]
    },
    {
     "name": "stdout",
     "output_type": "stream",
     "text": [
      "403\n",
      "Failed to retrieve data from https://www.cnvd.org.cn/flaw/show/CNVD-2022-69735\n"
     ]
    },
    {
     "name": "stderr",
     "output_type": "stream",
     "text": [
      "Retrieving data:   6%|▌         | 89/1506 [01:54<23:33,  1.00links/s]"
     ]
    },
    {
     "name": "stdout",
     "output_type": "stream",
     "text": [
      "403\n",
      "Failed to retrieve data from https://www.cnvd.org.cn/flaw/show/CNVD-2022-69736\n"
     ]
    },
    {
     "name": "stderr",
     "output_type": "stream",
     "text": [
      "Retrieving data:   6%|▌         | 90/1506 [01:55<22:18,  1.06links/s]"
     ]
    },
    {
     "name": "stdout",
     "output_type": "stream",
     "text": [
      "403\n",
      "Failed to retrieve data from https://www.cnvd.org.cn/flaw/show/CNVD-2023-95335\n"
     ]
    },
    {
     "name": "stderr",
     "output_type": "stream",
     "text": [
      "Retrieving data:   6%|▌         | 91/1506 [01:55<21:09,  1.11links/s]"
     ]
    },
    {
     "name": "stdout",
     "output_type": "stream",
     "text": [
      "403\n",
      "Failed to retrieve data from https://www.cnvd.org.cn/flaw/show/CNVD-2022-76481\n"
     ]
    },
    {
     "name": "stderr",
     "output_type": "stream",
     "text": [
      "Retrieving data:   6%|▌         | 92/1506 [01:56<20:23,  1.16links/s]"
     ]
    },
    {
     "name": "stdout",
     "output_type": "stream",
     "text": [
      "403\n",
      "Failed to retrieve data from https://www.cnvd.org.cn/flaw/show/CNVD-2022-76489\n"
     ]
    },
    {
     "name": "stderr",
     "output_type": "stream",
     "text": [
      "Retrieving data:   6%|▌         | 93/1506 [01:57<19:52,  1.18links/s]"
     ]
    },
    {
     "name": "stdout",
     "output_type": "stream",
     "text": [
      "403\n",
      "Failed to retrieve data from https://www.cnvd.org.cn/flaw/show/CNVD-2022-76490\n"
     ]
    },
    {
     "name": "stderr",
     "output_type": "stream",
     "text": [
      "Retrieving data:   6%|▌         | 93/1506 [01:58<29:54,  1.27s/links]\n"
     ]
    },
    {
     "ename": "KeyboardInterrupt",
     "evalue": "",
     "output_type": "error",
     "traceback": [
      "\u001b[0;31m---------------------------------------------------------------------------\u001b[0m",
      "\u001b[0;31mAttributeError\u001b[0m                            Traceback (most recent call last)",
      "Cell \u001b[0;32mIn[3], line 19\u001b[0m\n\u001b[1;32m     17\u001b[0m \u001b[38;5;28mprint\u001b[39m(response\u001b[38;5;241m.\u001b[39mstatus_code)\n\u001b[1;32m     18\u001b[0m \u001b[38;5;28;01mif\u001b[39;00m response\u001b[38;5;241m.\u001b[39mstatus_code \u001b[38;5;241m==\u001b[39m \u001b[38;5;241m200\u001b[39m:\n\u001b[0;32m---> 19\u001b[0m     extracted_data \u001b[38;5;241m=\u001b[39m \u001b[43mextract_data\u001b[49m\u001b[43m(\u001b[49m\u001b[43mresponse\u001b[49m\u001b[38;5;241;43m.\u001b[39;49m\u001b[43mtext\u001b[49m\u001b[43m)\u001b[49m\n\u001b[1;32m     20\u001b[0m     \u001b[38;5;28;01mwith\u001b[39;00m \u001b[38;5;28mopen\u001b[39m(csv_file, \u001b[38;5;124m'\u001b[39m\u001b[38;5;124ma\u001b[39m\u001b[38;5;124m'\u001b[39m, newline\u001b[38;5;241m=\u001b[39m\u001b[38;5;124m'\u001b[39m\u001b[38;5;124m'\u001b[39m, encoding\u001b[38;5;241m=\u001b[39m\u001b[38;5;124m'\u001b[39m\u001b[38;5;124mutf-8\u001b[39m\u001b[38;5;124m'\u001b[39m) \u001b[38;5;28;01mas\u001b[39;00m file:\n\u001b[1;32m     21\u001b[0m         writer \u001b[38;5;241m=\u001b[39m csv\u001b[38;5;241m.\u001b[39mDictWriter(file, fieldnames\u001b[38;5;241m=\u001b[39m[\u001b[38;5;124m'\u001b[39m\u001b[38;5;124mCNVD-ID\u001b[39m\u001b[38;5;124m'\u001b[39m, \u001b[38;5;124m'\u001b[39m\u001b[38;5;124mCVE-ID\u001b[39m\u001b[38;5;124m'\u001b[39m, \u001b[38;5;124m'\u001b[39m\u001b[38;5;124mPublic Date\u001b[39m\u001b[38;5;124m'\u001b[39m, \u001b[38;5;124m'\u001b[39m\u001b[38;5;124mHarm Level\u001b[39m\u001b[38;5;124m'\u001b[39m, \u001b[38;5;124m'\u001b[39m\u001b[38;5;124mAffected Products\u001b[39m\u001b[38;5;124m'\u001b[39m, \u001b[38;5;124m'\u001b[39m\u001b[38;5;124mDescription\u001b[39m\u001b[38;5;124m'\u001b[39m, \u001b[38;5;124m'\u001b[39m\u001b[38;5;124mVulnerability Type\u001b[39m\u001b[38;5;124m'\u001b[39m, \u001b[38;5;124m'\u001b[39m\u001b[38;5;124mReference Link\u001b[39m\u001b[38;5;124m'\u001b[39m, \u001b[38;5;124m'\u001b[39m\u001b[38;5;124mSolution\u001b[39m\u001b[38;5;124m'\u001b[39m, \u001b[38;5;124m'\u001b[39m\u001b[38;5;124mVendor Patch\u001b[39m\u001b[38;5;124m'\u001b[39m])\n",
      "Cell \u001b[0;32mIn[2], line 28\u001b[0m, in \u001b[0;36mextract_data\u001b[0;34m(html)\u001b[0m\n\u001b[1;32m     26\u001b[0m \u001b[38;5;66;03m# Extracting and cleaning data\u001b[39;00m\n\u001b[1;32m     27\u001b[0m data[\u001b[38;5;124m'\u001b[39m\u001b[38;5;124mCNVD-ID\u001b[39m\u001b[38;5;124m'\u001b[39m] \u001b[38;5;241m=\u001b[39m clean_text(soup\u001b[38;5;241m.\u001b[39mfind(string\u001b[38;5;241m=\u001b[39m\u001b[38;5;124m'\u001b[39m\u001b[38;5;124mCNVD-ID\u001b[39m\u001b[38;5;124m'\u001b[39m)\u001b[38;5;241m.\u001b[39mfind_next()\u001b[38;5;241m.\u001b[39mtext)\n\u001b[0;32m---> 28\u001b[0m data[\u001b[38;5;124m'\u001b[39m\u001b[38;5;124mCVE-ID\u001b[39m\u001b[38;5;124m'\u001b[39m] \u001b[38;5;241m=\u001b[39m clean_text(\u001b[43msoup\u001b[49m\u001b[38;5;241;43m.\u001b[39;49m\u001b[43mfind\u001b[49m\u001b[43m(\u001b[49m\u001b[43mstring\u001b[49m\u001b[38;5;241;43m=\u001b[39;49m\u001b[38;5;124;43m'\u001b[39;49m\u001b[38;5;124;43mCVE ID\u001b[39;49m\u001b[38;5;124;43m'\u001b[39;49m\u001b[43m)\u001b[49m\u001b[38;5;241;43m.\u001b[39;49m\u001b[43mfind_next\u001b[49m()\u001b[38;5;241m.\u001b[39mtext)\n\u001b[1;32m     29\u001b[0m data[\u001b[38;5;124m'\u001b[39m\u001b[38;5;124mPublic Date\u001b[39m\u001b[38;5;124m'\u001b[39m] \u001b[38;5;241m=\u001b[39m clean_text(soup\u001b[38;5;241m.\u001b[39mfind(string\u001b[38;5;241m=\u001b[39m\u001b[38;5;124m'\u001b[39m\u001b[38;5;124m公开日期\u001b[39m\u001b[38;5;124m'\u001b[39m)\u001b[38;5;241m.\u001b[39mfind_next()\u001b[38;5;241m.\u001b[39mtext)\n\u001b[1;32m     30\u001b[0m data[\u001b[38;5;124m'\u001b[39m\u001b[38;5;124mHarm Level\u001b[39m\u001b[38;5;124m'\u001b[39m] \u001b[38;5;241m=\u001b[39m clean_text(soup\u001b[38;5;241m.\u001b[39mfind(string\u001b[38;5;241m=\u001b[39m\u001b[38;5;124m'\u001b[39m\u001b[38;5;124m危害级别\u001b[39m\u001b[38;5;124m'\u001b[39m)\u001b[38;5;241m.\u001b[39mfind_next()\u001b[38;5;241m.\u001b[39mtext)\n",
      "\u001b[0;31mAttributeError\u001b[0m: 'NoneType' object has no attribute 'find_next'"
     ]
    }
   ],
   "source": [
    "# Retrieve the data from each link\n",
    "list_of_links = file_to_list('iot_cnvd_links.txt')\n",
    "print(f'Retrieving data from {len(list_of_links)} links')\n",
    "session.close()\n",
    "# Initialize CSV file and write the headers\n",
    "csv_file = 'cnvd-iot-vulnerabilities.csv'\n",
    "with open(csv_file, 'w', newline='', encoding='utf-8') as file:\n",
    "    writer = csv.DictWriter(file, fieldnames=['CNVD-ID', 'CVE-ID', 'Public Date', 'Harm Level', 'Affected Products', 'Description', 'Vulnerability Type', 'Reference Link', 'Solution', 'Vendor Patch'])\n",
    "    writer.writeheader()\n",
    "\n",
    "for link in tqdm(list_of_links, desc='Retrieving data', unit='links'):\n",
    "    if (list_of_links.index(link) + 1) % 5 == 0:\n",
    "        time.sleep(60)\n",
    "    response = session.get(link, headers=header)\n",
    "    print(response.status_code)\n",
    "    if response.status_code == 200:\n",
    "        try:\n",
    "            extracted_data = extract_data(response.text)\n",
    "        except Exception as e:\n",
    "            print(f'Failed to extract data from {link}')\n",
    "            print(e)\n",
    "            continue\n",
    "        with open(csv_file, 'a', newline='', encoding='utf-8') as file:\n",
    "            writer = csv.DictWriter(file, fieldnames=['CNVD-ID', 'CVE-ID', 'Public Date', 'Harm Level', 'Affected Products', 'Description', 'Vulnerability Type', 'Reference Link', 'Solution', 'Vendor Patch'])\n",
    "            writer.writerow(extracted_data)\n",
    "        time.sleep(5)\n",
    "    else:\n",
    "        print(f'Failed to retrieve data from {link}')"
   ]
  },
  {
   "cell_type": "code",
   "execution_count": 18,
   "metadata": {},
   "outputs": [
    {
     "ename": "ModuleNotFoundError",
     "evalue": "No module named 'webdriver_manager'",
     "output_type": "error",
     "traceback": [
      "\u001b[0;31m---------------------------------------------------------------------------\u001b[0m",
      "\u001b[0;31mModuleNotFoundError\u001b[0m                       Traceback (most recent call last)",
      "Cell \u001b[0;32mIn[18], line 6\u001b[0m\n\u001b[1;32m      4\u001b[0m \u001b[38;5;28;01mfrom\u001b[39;00m \u001b[38;5;21;01mselenium\u001b[39;00m\u001b[38;5;21;01m.\u001b[39;00m\u001b[38;5;21;01mwebdriver\u001b[39;00m\u001b[38;5;21;01m.\u001b[39;00m\u001b[38;5;21;01mcommon\u001b[39;00m\u001b[38;5;21;01m.\u001b[39;00m\u001b[38;5;21;01mkeys\u001b[39;00m \u001b[38;5;28;01mimport\u001b[39;00m Keys\n\u001b[1;32m      5\u001b[0m \u001b[38;5;28;01mfrom\u001b[39;00m \u001b[38;5;21;01mselenium\u001b[39;00m\u001b[38;5;21;01m.\u001b[39;00m\u001b[38;5;21;01mwebdriver\u001b[39;00m\u001b[38;5;21;01m.\u001b[39;00m\u001b[38;5;21;01mchrome\u001b[39;00m\u001b[38;5;21;01m.\u001b[39;00m\u001b[38;5;21;01moptions\u001b[39;00m \u001b[38;5;28;01mimport\u001b[39;00m Options\n\u001b[0;32m----> 6\u001b[0m \u001b[38;5;28;01mfrom\u001b[39;00m \u001b[38;5;21;01mwebdriver_manager\u001b[39;00m\u001b[38;5;21;01m.\u001b[39;00m\u001b[38;5;21;01mchrome\u001b[39;00m \u001b[38;5;28;01mimport\u001b[39;00m ChromeDriverManager\n\u001b[1;32m      7\u001b[0m \u001b[38;5;28;01mfrom\u001b[39;00m \u001b[38;5;21;01mselenium\u001b[39;00m\u001b[38;5;21;01m.\u001b[39;00m\u001b[38;5;21;01mwebdriver\u001b[39;00m\u001b[38;5;21;01m.\u001b[39;00m\u001b[38;5;21;01mchrome\u001b[39;00m\u001b[38;5;21;01m.\u001b[39;00m\u001b[38;5;21;01mservice\u001b[39;00m \u001b[38;5;28;01mimport\u001b[39;00m Service \u001b[38;5;28;01mas\u001b[39;00m ChromeService\n\u001b[1;32m      8\u001b[0m \u001b[38;5;28;01mimport\u001b[39;00m \u001b[38;5;21;01mtime\u001b[39;00m\n",
      "\u001b[0;31mModuleNotFoundError\u001b[0m: No module named 'webdriver_manager'"
     ]
    }
   ],
   "source": [
    "from selenium import webdriver\n",
    "from selenium.webdriver.chrome.service import Service\n",
    "from selenium.webdriver.common.by import By\n",
    "from selenium.webdriver.common.keys import Keys\n",
    "from selenium.webdriver.chrome.options import Options\n",
    "from webdriver_manager.chrome import ChromeDriverManager\n",
    "from selenium.webdriver.chrome.service import Service as ChromeService\n",
    "import time\n",
    "\n",
    "# Optional: Set up Chrome options (e.g., headless mode)\n",
    "options = Options()\n",
    "options.headless = True  # Uncomment if you don't want the browser to open up\n",
    "\n",
    "# Specify the path to chromedriver.exe\n",
    "#service = Service(\"/home/revo/repos/ES-vuln-classifier/notbooks/chromdriver/chrome\")\n",
    "service = ChromeService(executable_path=ChromeDriverManager().install())\n",
    "\n",
    "# Initialize the driver\n",
    "driver = webdriver.Chrome(service=service, options=options)\n",
    "\n",
    "# Navigate to a page\n",
    "driver.get('https://www.cnvd.org.cn/')\n",
    "\n",
    "# Wait for 5 seconds to imitate a user reading the page content\n",
    "time.sleep(5)\n",
    "\n",
    "# Example: Find an element and interact with it\n",
    "# search_box = driver.find_element(By.NAME, 'q')\n",
    "# search_box.send_keys('test')\n",
    "# search_box.send_keys(Keys.RETURN)\n",
    "\n",
    "# Close the browser\n",
    "driver.quit()\n"
   ]
  },
  {
   "cell_type": "code",
   "execution_count": 27,
   "metadata": {},
   "outputs": [
    {
     "name": "stdout",
     "output_type": "stream",
     "text": [
      "http://178.128.113.118:23128\n"
     ]
    }
   ],
   "source": [
    "proxy = FreeProxy(rand=True).get()\n",
    "print(proxy)"
   ]
  },
  {
   "cell_type": "code",
   "execution_count": null,
   "metadata": {},
   "outputs": [],
   "source": []
  }
 ],
 "metadata": {
  "kernelspec": {
   "display_name": "ai",
   "language": "python",
   "name": "python3"
  },
  "language_info": {
   "codemirror_mode": {
    "name": "ipython",
    "version": 3
   },
   "file_extension": ".py",
   "mimetype": "text/x-python",
   "name": "python",
   "nbconvert_exporter": "python",
   "pygments_lexer": "ipython3",
   "version": "3.12.1"
  }
 },
 "nbformat": 4,
 "nbformat_minor": 2
}
