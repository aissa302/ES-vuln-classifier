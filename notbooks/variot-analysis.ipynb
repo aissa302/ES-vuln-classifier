{
 "cells": [
  {
   "cell_type": "code",
   "execution_count": 1,
   "metadata": {},
   "outputs": [
    {
     "data": {
      "text/html": [
       "<div>\n",
       "<style scoped>\n",
       "    .dataframe tbody tr th:only-of-type {\n",
       "        vertical-align: middle;\n",
       "    }\n",
       "\n",
       "    .dataframe tbody tr th {\n",
       "        vertical-align: top;\n",
       "    }\n",
       "\n",
       "    .dataframe thead th {\n",
       "        text-align: right;\n",
       "    }\n",
       "</style>\n",
       "<table border=\"1\" class=\"dataframe\">\n",
       "  <thead>\n",
       "    <tr style=\"text-align: right;\">\n",
       "      <th></th>\n",
       "      <th>VAR ID</th>\n",
       "      <th>CVE ID</th>\n",
       "      <th>Description</th>\n",
       "    </tr>\n",
       "  </thead>\n",
       "  <tbody>\n",
       "    <tr>\n",
       "      <th>0</th>\n",
       "      <td>VAR-202403-0394</td>\n",
       "      <td>NaN</td>\n",
       "      <td>EG3210 is a multi-service security gateway. Th...</td>\n",
       "    </tr>\n",
       "    <tr>\n",
       "      <th>1</th>\n",
       "      <td>VAR-202402-2601</td>\n",
       "      <td>NaN</td>\n",
       "      <td>Beijing Xingwang Ruijie Network Technology Co....</td>\n",
       "    </tr>\n",
       "    <tr>\n",
       "      <th>2</th>\n",
       "      <td>VAR-202402-2400</td>\n",
       "      <td>NaN</td>\n",
       "      <td>NBR6205-E is a router product. Beijing Xingwan...</td>\n",
       "    </tr>\n",
       "    <tr>\n",
       "      <th>3</th>\n",
       "      <td>VAR-202402-1924</td>\n",
       "      <td>CVE-2023-32462</td>\n",
       "      <td>Dell OS10 Networking Switches running 10.5.2.x...</td>\n",
       "    </tr>\n",
       "    <tr>\n",
       "      <th>4</th>\n",
       "      <td>VAR-202402-1750</td>\n",
       "      <td>CVE-2023-28078</td>\n",
       "      <td>Dell OS10 Networking Switches running 10.5.2.x...</td>\n",
       "    </tr>\n",
       "  </tbody>\n",
       "</table>\n",
       "</div>"
      ],
      "text/plain": [
       "            VAR ID          CVE ID  \\\n",
       "0  VAR-202403-0394             NaN   \n",
       "1  VAR-202402-2601             NaN   \n",
       "2  VAR-202402-2400             NaN   \n",
       "3  VAR-202402-1924  CVE-2023-32462   \n",
       "4  VAR-202402-1750  CVE-2023-28078   \n",
       "\n",
       "                                         Description  \n",
       "0  EG3210 is a multi-service security gateway. Th...  \n",
       "1  Beijing Xingwang Ruijie Network Technology Co....  \n",
       "2  NBR6205-E is a router product. Beijing Xingwan...  \n",
       "3  Dell OS10 Networking Switches running 10.5.2.x...  \n",
       "4  Dell OS10 Networking Switches running 10.5.2.x...  "
      ]
     },
     "execution_count": 1,
     "metadata": {},
     "output_type": "execute_result"
    }
   ],
   "source": [
    "import pandas as pd\n",
    "from tqdm import tqdm\n",
    "\n",
    "\n",
    "variot = pd.read_csv('../data/VarIoT_data/vulnerabilities.csv')\n",
    "variot.head()"
   ]
  },
  {
   "cell_type": "code",
   "execution_count": 2,
   "metadata": {},
   "outputs": [
    {
     "data": {
      "text/html": [
       "<div>\n",
       "<style scoped>\n",
       "    .dataframe tbody tr th:only-of-type {\n",
       "        vertical-align: middle;\n",
       "    }\n",
       "\n",
       "    .dataframe tbody tr th {\n",
       "        vertical-align: top;\n",
       "    }\n",
       "\n",
       "    .dataframe thead th {\n",
       "        text-align: right;\n",
       "    }\n",
       "</style>\n",
       "<table border=\"1\" class=\"dataframe\">\n",
       "  <thead>\n",
       "    <tr style=\"text-align: right;\">\n",
       "      <th></th>\n",
       "      <th>VAR ID</th>\n",
       "      <th>CVE ID</th>\n",
       "      <th>Description</th>\n",
       "    </tr>\n",
       "  </thead>\n",
       "  <tbody>\n",
       "    <tr>\n",
       "      <th>count</th>\n",
       "      <td>39800</td>\n",
       "      <td>35486</td>\n",
       "      <td>39800</td>\n",
       "    </tr>\n",
       "    <tr>\n",
       "      <th>unique</th>\n",
       "      <td>38347</td>\n",
       "      <td>34023</td>\n",
       "      <td>36828</td>\n",
       "    </tr>\n",
       "    <tr>\n",
       "      <th>top</th>\n",
       "      <td>VAR-202109-1225</td>\n",
       "      <td>CVE-2006-2937</td>\n",
       "      <td>WebKit, as used in Apple Safari before 6.0, al...</td>\n",
       "    </tr>\n",
       "    <tr>\n",
       "      <th>freq</th>\n",
       "      <td>5</td>\n",
       "      <td>8</td>\n",
       "      <td>45</td>\n",
       "    </tr>\n",
       "  </tbody>\n",
       "</table>\n",
       "</div>"
      ],
      "text/plain": [
       "                 VAR ID         CVE ID  \\\n",
       "count             39800          35486   \n",
       "unique            38347          34023   \n",
       "top     VAR-202109-1225  CVE-2006-2937   \n",
       "freq                  5              8   \n",
       "\n",
       "                                              Description  \n",
       "count                                               39800  \n",
       "unique                                              36828  \n",
       "top     WebKit, as used in Apple Safari before 6.0, al...  \n",
       "freq                                                   45  "
      ]
     },
     "execution_count": 2,
     "metadata": {},
     "output_type": "execute_result"
    }
   ],
   "source": [
    "variot.describe()"
   ]
  },
  {
   "cell_type": "code",
   "execution_count": 7,
   "metadata": {},
   "outputs": [
    {
     "data": {
      "text/plain": [
       "4314"
      ]
     },
     "execution_count": 7,
     "metadata": {},
     "output_type": "execute_result"
    }
   ],
   "source": [
    "# Get the number of entries with CVE ID is NaN\n",
    "variot['CVE ID'].isna().sum()"
   ]
  },
  {
   "cell_type": "code",
   "execution_count": 8,
   "metadata": {},
   "outputs": [
    {
     "data": {
      "text/plain": [
       "0"
      ]
     },
     "execution_count": 8,
     "metadata": {},
     "output_type": "execute_result"
    }
   ],
   "source": [
    "variot['Description'].isna().sum()"
   ]
  }
 ],
 "metadata": {
  "kernelspec": {
   "display_name": "ai",
   "language": "python",
   "name": "python3"
  },
  "language_info": {
   "codemirror_mode": {
    "name": "ipython",
    "version": 3
   },
   "file_extension": ".py",
   "mimetype": "text/x-python",
   "name": "python",
   "nbconvert_exporter": "python",
   "pygments_lexer": "ipython3",
   "version": "3.12.1"
  }
 },
 "nbformat": 4,
 "nbformat_minor": 2
}
