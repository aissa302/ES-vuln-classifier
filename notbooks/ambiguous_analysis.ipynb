{
 "cells": [
  {
   "cell_type": "code",
   "execution_count": 12,
   "metadata": {},
   "outputs": [
    {
     "name": "stderr",
     "output_type": "stream",
     "text": [
      "100%|██████████| 26/26 [00:00<00:00, 2418.22it/s]"
     ]
    },
    {
     "name": "stdout",
     "output_type": "stream",
     "text": [
      "Done\n"
     ]
    },
    {
     "name": "stderr",
     "output_type": "stream",
     "text": [
      "\n"
     ]
    }
   ],
   "source": [
    "# Load json\n",
    "import json\n",
    "import csv\n",
    "# Load the json file\n",
    "from tqdm import tqdm\n",
    "def load_json(file_path):\n",
    "    with open(file_path) as f:\n",
    "        data = json.load(f)\n",
    "    return data\n",
    "\n",
    "# Load the data\n",
    "AUGMENTED_DATA = \"../data/Ambiguous-data/real_ambiguous_augmented.json\"\n",
    "\n",
    "augmented_data = load_json(AUGMENTED_DATA)\n",
    "\n",
    "# Turn the json file into csv\n",
    "with open(\"../data/Ambiguous-data/test_real_ambiguous_augemented_data.csv\", \"w\") as f:\n",
    "    writer = csv.writer(f)\n",
    "    writer.writerow([\"Description\", \"label\"])\n",
    "    for key in tqdm(augmented_data):\n",
    "        for descriptin in augmented_data[key]:\n",
    "            writer.writerow([descriptin[0], \"ambiguous\"])\n",
    "\n",
    "print(\"Done\")\n",
    "\n",
    "\n",
    "    "
   ]
  }
 ],
 "metadata": {
  "kernelspec": {
   "display_name": "ai",
   "language": "python",
   "name": "python3"
  },
  "language_info": {
   "codemirror_mode": {
    "name": "ipython",
    "version": 3
   },
   "file_extension": ".py",
   "mimetype": "text/x-python",
   "name": "python",
   "nbconvert_exporter": "python",
   "pygments_lexer": "ipython3",
   "version": "3.11.5"
  }
 },
 "nbformat": 4,
 "nbformat_minor": 2
}
